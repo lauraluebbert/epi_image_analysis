{
 "cells": [
  {
   "cell_type": "markdown",
   "metadata": {},
   "source": [
    "# Apply color grading, enhance contrast and add scale bars to epifluorescence images"
   ]
  },
  {
   "cell_type": "code",
   "execution_count": null,
   "metadata": {},
   "outputs": [],
   "source": [
    "# Tools to read in the image files and filenames\n",
    "import glob\n",
    "import os\n",
    "import re \n",
    "\n",
    "# Calculation and data frame tools\n",
    "import numpy as np\n",
    "import pandas as pd\n",
    "\n",
    "# Image processing tools\n",
    "import skimage\n",
    "import skimage.io\n",
    "import skimage.morphology"
   ]
  },
  {
   "cell_type": "markdown",
   "metadata": {},
   "source": [
    "___"
   ]
  },
  {
   "cell_type": "markdown",
   "metadata": {},
   "source": [
    "This code will create a new folders in the previous directory called X_LUT containing tif files of the images with adjusted contrast (using the skimage.equalize_adapthist function), LUT and scale bar. It will also merge two fluorescence channels of the same image and save them in a new folder called X_LUT_merged. \n",
    "\n",
    "Name files as follows: \"conditions_merge-identifier_magnification_channel.tif\" (for example: \"X_Y_Z_area1_10x_RFP.tif\" and \"X_Y_Z_area1_10x_GFP.tif\")\n",
    "\n",
    "Written by Laura Luebbert, 22nd of March 2020."
   ]
  },
  {
   "cell_type": "markdown",
   "metadata": {},
   "source": [
    "___"
   ]
  },
  {
   "cell_type": "markdown",
   "metadata": {},
   "source": [
    "# Load in the data:"
   ]
  },
  {
   "cell_type": "markdown",
   "metadata": {},
   "source": [
    "Load images into Python:"
   ]
  },
  {
   "cell_type": "code",
   "execution_count": null,
   "metadata": {},
   "outputs": [],
   "source": [
    "# Define the directory containing daytime data\n",
    "data_dir = ''\n",
    "\n",
    "# Glob string for images (loads all .tif files)\n",
    "im_glob = os.path.join(data_dir, '*.tif')\n",
    "\n",
    "# Get list of files in directory\n",
    "im_list = sorted(glob.glob(im_glob))\n",
    "\n",
    "# Let's look at the first 10 entries\n",
    "im_list[:10]"
   ]
  },
  {
   "cell_type": "markdown",
   "metadata": {},
   "source": [
    "# Define the parameters:"
   ]
  },
  {
   "cell_type": "code",
   "execution_count": null,
   "metadata": {},
   "outputs": [],
   "source": [
    "# Define the interpixel distance in µm.\n",
    "interpixel_distance_10x = 2\n",
    "interpixel_distance_20x = 1\n",
    "\n",
    "# Define the desired scale bar size in µm.\n",
    "scale_bar = 100\n",
    "\n",
    "# Define green, blue or red LUT for each channel\n",
    "blue_channel = \"DAPI\"\n",
    "green_channel = \"GFP\"\n",
    "red_channel = \"RFP\""
   ]
  },
  {
   "cell_type": "markdown",
   "metadata": {},
   "source": [
    "___"
   ]
  },
  {
   "cell_type": "markdown",
   "metadata": {},
   "source": [
    "# Take a look at some information using the first image:"
   ]
  },
  {
   "cell_type": "markdown",
   "metadata": {},
   "source": [
    "Load the first tif file using scikit-image to get some information about bit-size and color channels:"
   ]
  },
  {
   "cell_type": "code",
   "execution_count": 2,
   "metadata": {},
   "outputs": [],
   "source": [
    "# Read in the first tif file using skimage.\n",
    "# In im_list[x], x defines which image is displayed.\n",
    "im = skimage.io.imread(im_list[0])\n",
    "\n",
    "im.shape\n",
    "# Let's get information about the image.\n",
    "print(\n",
    "    \"The image is stored as a\",\n",
    "    type(im),\n",
    "    \"of\",\n",
    "    im.dtype,\n",
    "    \"bits.\",\n",
    "    \"The image consists of\",\n",
    "    im.shape[0],\n",
    "    \"x\",\n",
    "    im.shape[1],\n",
    "    \"pixels.\",\n",
    ")"
   ]
  },
  {
   "cell_type": "markdown",
   "metadata": {},
   "source": [
    "___"
   ]
  },
  {
   "cell_type": "markdown",
   "metadata": {},
   "source": [
    "# Enhance contrast and apply LUT according to channel:"
   ]
  },
  {
   "cell_type": "code",
   "execution_count": 3,
   "metadata": {},
   "outputs": [],
   "source": [
    "# Empty array to save images with enhanced contract and LUT to\n",
    "max_ims = []\n",
    "\n",
    "for i, file in enumerate(im_list):\n",
    "    # Read in each tif file using skimage\n",
    "    max_image = skimage.io.imread(im_list[i])\n",
    "\n",
    "    # local contrast enhancement based on histograms computed over different tile regions of the image\n",
    "    max_image = skimage.exposure.equalize_adapthist(max_image)\n",
    "\n",
    "    ## Add color\n",
    "    if im_list[i].split(\"_\")[-1].split(\".\")[0] == blue_channel:\n",
    "        merged_im = []\n",
    "\n",
    "        # Append red channel\n",
    "        # Since we don't have a red channel here, I'll append an array of zeros (Skimage needs all three channels to save rgb images.)\n",
    "        merged_im.append(np.zeros((max_image.shape)))\n",
    "\n",
    "        # Append green channel\n",
    "        merged_im.append(np.zeros((max_image.shape)))\n",
    "\n",
    "        # Append blue channel\n",
    "        merged_im.append(max_image)\n",
    "\n",
    "        # Reorder dimensions of array to fit image representation in numpy\n",
    "        merged_im = np.moveaxis(merged_im, 0, 2)\n",
    "        merged_im = np.array(merged_im)\n",
    "\n",
    "        max_ims.append(merged_im)\n",
    "\n",
    "    if im_list[i].split(\"_\")[-1].split(\".\")[0] == green_channel:\n",
    "        merged_im = []\n",
    "\n",
    "        # Append red channel\n",
    "        merged_im.append(np.zeros((max_image.shape)))\n",
    "\n",
    "        # Append green channel\n",
    "        merged_im.append(max_image)\n",
    "\n",
    "        # Append blue channel\n",
    "        merged_im.append(np.zeros((max_image.shape)))\n",
    "\n",
    "        # Reorder dimensions of array to fit image representation in numpy\n",
    "        merged_im = np.moveaxis(merged_im, 0, 2)\n",
    "        merged_im = np.array(merged_im)\n",
    "\n",
    "        max_ims.append(merged_im)\n",
    "\n",
    "    if im_list[i].split(\"_\")[-1].split(\".\")[0] == red_channel:\n",
    "        merged_im = []\n",
    "\n",
    "        # Append red channel\n",
    "        merged_im.append(max_image)\n",
    "\n",
    "        # Append green channel\n",
    "        merged_im.append(np.zeros((max_image.shape)))\n",
    "\n",
    "        # Append blue channel\n",
    "        merged_im.append(np.zeros((max_image.shape)))\n",
    "\n",
    "        merged_im = np.array(merged_im)\n",
    "\n",
    "        # Reorder dimensions of array to fit image representation in numpy\n",
    "        merged_im = np.moveaxis(merged_im, 0, 2)\n",
    "        merged_im = np.array(merged_im)\n",
    "\n",
    "        max_ims.append(merged_im)"
   ]
  },
  {
   "cell_type": "markdown",
   "metadata": {},
   "source": [
    "# Save the images as an 8-bit tif file:"
   ]
  },
  {
   "cell_type": "markdown",
   "metadata": {},
   "source": [
    "### Convert images to 8-bit:"
   ]
  },
  {
   "cell_type": "code",
   "execution_count": 4,
   "metadata": {},
   "outputs": [],
   "source": [
    "# Scale down images to 8 bits to save them as a jpeg using skimage.\n",
    "max_ims_8 = []\n",
    "\n",
    "for i, file in enumerate(max_ims):\n",
    "    # Linearly scale down to 8-bit.\n",
    "    image = (max_ims[i] / max_ims[i].max()) * 255\n",
    "\n",
    "    # Change list to array and change type to 8-bit array.\n",
    "    image = np.array(image)\n",
    "    image = image.astype(np.uint8)\n",
    "\n",
    "    max_ims_8.append(image)\n",
    "\n",
    "# Change entire array \"ims\" to 8-bit array.\n",
    "max_ims_8 = np.array(max_ims_8)\n",
    "max_ims_8 = max_ims_8.astype(np.uint8)"
   ]
  },
  {
   "cell_type": "markdown",
   "metadata": {},
   "source": [
    "### Burn in scale bars:"
   ]
  },
  {
   "cell_type": "code",
   "execution_count": 5,
   "metadata": {},
   "outputs": [],
   "source": [
    "max_ims_8_with_scalebars = []\n",
    "\n",
    "scalebar_10 = 1 / interpixel_distance_10x * scale_bar\n",
    "scalebar_20 = 1 / interpixel_distance_20x * scale_bar\n",
    "\n",
    "for i, file in enumerate(max_ims_8):\n",
    "    # Make a copy of the image.\n",
    "    image_with_scalebar = max_ims_8[i]\n",
    "\n",
    "    if im_list[i].split(\"_\")[-2] == \"10x\":\n",
    "        # Burn the scale bar by changing pixel values (white scalebar = 1000 (for black set to = 0)).\n",
    "        image_with_scalebar[970:980, 1190 : 1190 + int(scalebar_10)] = 1000\n",
    "\n",
    "        # Append to new array.\n",
    "        max_ims_8_with_scalebars.append(image_with_scalebar)\n",
    "\n",
    "    if im_list[i].split(\"_\")[-2] == \"20x\":\n",
    "        # Burn the scale bar by changing pixel values (white scalebar = 1000 (for black set to = 0)).\n",
    "        image_with_scalebar[970:980, 1100 : 1100 + int(scalebar_20)] = 1000\n",
    "\n",
    "        # Append to new array.\n",
    "        max_ims_8_with_scalebars.append(image_with_scalebar)\n",
    "\n",
    "# Display one image with the scalebar.\n",
    "skimage.io.imshow(max_ims_8_with_scalebars[0])"
   ]
  },
  {
   "cell_type": "markdown",
   "metadata": {},
   "source": [
    "### Create folder to save images to:"
   ]
  },
  {
   "cell_type": "code",
   "execution_count": 6,
   "metadata": {},
   "outputs": [],
   "source": [
    "path = (\"{}/{}_LUT\").format(\n",
    "    \"/\".join(im_list[0].split(\"/\")[:-2]), im_list[0].split(\"/\")[-3]\n",
    ")\n",
    "\n",
    "os.mkdir(path)"
   ]
  },
  {
   "cell_type": "markdown",
   "metadata": {},
   "source": [
    "### Slice out image names:"
   ]
  },
  {
   "cell_type": "code",
   "execution_count": 7,
   "metadata": {},
   "outputs": [],
   "source": [
    "# Save the filename of the image in array as a first step to get the image title.\n",
    "files = []\n",
    "\n",
    "for filename in im_list:\n",
    "    files.append(filename.split(\"/\")[-1])\n",
    "\n",
    "# Save image titles in array.\n",
    "imnames = []\n",
    "\n",
    "for name in files:\n",
    "    imnames.append(name.split(\".\")[0])"
   ]
  },
  {
   "cell_type": "markdown",
   "metadata": {},
   "source": [
    "### Save images:"
   ]
  },
  {
   "cell_type": "code",
   "execution_count": 8,
   "metadata": {},
   "outputs": [],
   "source": [
    "# Save all images with the scale bar.\n",
    "for i, image in enumerate(max_ims_8_with_scalebars):\n",
    "    skimage.io.imsave(\n",
    "        (\"{}/{}_LUT/{}_LUT.tif\").format(\n",
    "            \"/\".join(im_list[0].split(\"/\")[:-2]), im_list[0].split(\"/\")[-3], imnames[i]\n",
    "        ),\n",
    "        max_ims_8_with_scalebars[i],\n",
    "        plugin=None,\n",
    "        check_contrast=False,\n",
    "    )"
   ]
  },
  {
   "cell_type": "markdown",
   "metadata": {},
   "source": [
    "___"
   ]
  },
  {
   "cell_type": "markdown",
   "metadata": {},
   "source": [
    "# Merge different channels of the same image"
   ]
  },
  {
   "cell_type": "code",
   "execution_count": 9,
   "metadata": {},
   "outputs": [],
   "source": [
    "# Define regex to find number in file name.\n",
    "regex = re.compile(r\"\\d+\")\n",
    "\n",
    "# Array of files already visited.\n",
    "files_done = []\n",
    "\n",
    "# Define array to append image names to.\n",
    "merged_imnames = []\n",
    "\n",
    "# Define array to append merged images to.\n",
    "merged_max_ims = []\n",
    "\n",
    "for i, file in enumerate(im_list):\n",
    "    # Condition that prevents the same file to be visited twice.\n",
    "    if im_list[i] not in files_done:\n",
    "\n",
    "        # Slice out third to last piece of filename following \"_\" of one file.\n",
    "        lastname = im_list[i].split(\"_\")[-3]\n",
    "\n",
    "        # Find number in \"lastname\".\n",
    "        number1 = regex.findall(lastname)\n",
    "\n",
    "        files_done.append(im_list[i])\n",
    "\n",
    "        for j, file in enumerate(im_list):\n",
    "            if im_list[j] not in files_done:\n",
    "                # Slice out third to last piece of filename following \"_\" of all other files for comparison.\n",
    "                lastname = im_list[j].split(\"_\")[-3]\n",
    "\n",
    "                number2 = regex.findall(lastname)\n",
    "\n",
    "                # Compute max projection and merge images if:\n",
    "                # The sample number is the same,\n",
    "                # and the entire filename is not the same,\n",
    "                # and the channel is not the same,\n",
    "                # and the condition is the same.\n",
    "                if (\n",
    "                    (number1 == number2)\n",
    "                    and (im_list[i] != im_list[j])\n",
    "                    and (im_list[i].split(\"_\")[-1] != im_list[j].split(\"_\")[-1])\n",
    "                    and (\n",
    "                        \"_\".join(im_list[i].split(\"_\")[:-3])\n",
    "                        == \"_\".join(im_list[i].split(\"_\")[:-3])\n",
    "                    )\n",
    "                ):\n",
    "\n",
    "                    # Save the new image title for the merged images in an array.\n",
    "                    first = im_list[i].split(\"/\")[-1]\n",
    "                    second = \"_\".join(first.split(\"_\")[:-1])\n",
    "                    third = im_list[i].split(\".\")[-1]\n",
    "                    name = [second, third]\n",
    "                    merged_imnames.append(\".\".join(name))\n",
    "\n",
    "                    # Read in image 1.\n",
    "                    max_image1 = skimage.io.imread(im_list[i])\n",
    "\n",
    "                    # Read in image 2.\n",
    "                    max_image2 = skimage.io.imread(im_list[j])\n",
    "\n",
    "                    ## Merge images 1 and 2.\n",
    "                    # Empty array to save merged image to\n",
    "                    merged_im = []\n",
    "\n",
    "                    # Append red channel.\n",
    "                    merged_im.append(max_image2)\n",
    "\n",
    "                    # Append green channel.\n",
    "                    merged_im.append(max_image1)\n",
    "\n",
    "                    # Append blue channel.\n",
    "                    # Since we don't have a blue channel here, I'll append an array of zeros.\n",
    "                    merged_im.append(np.zeros((max_image1.shape)))\n",
    "\n",
    "                    merged_im = np.array(merged_im)\n",
    "\n",
    "                    # Reorder dimensions of array to fit image representation in numpy.\n",
    "                    merged_im = np.moveaxis(merged_im, 0, 2)\n",
    "                    merged_im = np.array(merged_im)\n",
    "\n",
    "                    merged_max_ims.append(merged_im)\n",
    "\n",
    "                    break"
   ]
  },
  {
   "cell_type": "markdown",
   "metadata": {},
   "source": [
    "# Save the merged images as an 8-bit tif file:"
   ]
  },
  {
   "cell_type": "markdown",
   "metadata": {},
   "source": [
    "### Convert images to 8-bit:"
   ]
  },
  {
   "cell_type": "code",
   "execution_count": 10,
   "metadata": {},
   "outputs": [],
   "source": [
    "# Scale down images to 8 bits to save them using skimage.\n",
    "merged_max_ims_8 = []\n",
    "\n",
    "for i, file in enumerate(merged_max_ims):\n",
    "    # Linearly scale down to 8-bit.\n",
    "    image = (merged_max_ims[i] / merged_max_ims[i].max()) * 255\n",
    "\n",
    "    # Change list to array and change type to 8-bit array.\n",
    "    image = np.array(image)\n",
    "    image = image.astype(np.uint8)\n",
    "\n",
    "    merged_max_ims_8.append(image)\n",
    "\n",
    "# Change entire array \"ims\" to 8-bit array.\n",
    "merged_max_ims_8 = np.array(merged_max_ims_8)\n",
    "merged_max_ims_8 = merged_max_ims_8.astype(np.uint8)"
   ]
  },
  {
   "cell_type": "markdown",
   "metadata": {},
   "source": [
    "### Burn in scale bars:"
   ]
  },
  {
   "cell_type": "code",
   "execution_count": 11,
   "metadata": {},
   "outputs": [],
   "source": [
    "merged_max_ims_8_with_scalebars = []\n",
    "\n",
    "scalebar_10 = 1 / interpixel_distance_10x * scale_bar\n",
    "scalebar_20 = 1 / interpixel_distance_20x * scale_bar\n",
    "\n",
    "for i, file in enumerate(merged_max_ims_8):\n",
    "    # Make a copy of the image.\n",
    "    image_with_scalebar = merged_max_ims_8[i]\n",
    "\n",
    "    if merged_imnames[i].split(\"_\")[-1].split(\".\")[0] == \"10x\":\n",
    "        # Burn the scale bar by changing pixel values (white scalebar = 1000 (for black set to = 0)).\n",
    "        image_with_scalebar[970:980, 1190 : 1190 + int(scalebar_10)] = 1000\n",
    "\n",
    "        # Append to new array.\n",
    "        merged_max_ims_8_with_scalebars.append(image_with_scalebar)\n",
    "\n",
    "    if merged_imnames[i].split(\"_\")[-1].split(\".\")[0] == \"20x\":\n",
    "        # Burn the scale bar by changing pixel values (white scalebar = 1000 (for black set to = 0)).\n",
    "        image_with_scalebar[970:980, 1100 : 1100 + int(scalebar_20)] = 1000\n",
    "\n",
    "        # Append to new array.\n",
    "        merged_max_ims_8_with_scalebars.append(image_with_scalebar)\n",
    "\n",
    "# Display one image with the scalebar.\n",
    "skimage.io.imshow(merged_max_ims_8_with_scalebars[1])"
   ]
  },
  {
   "cell_type": "markdown",
   "metadata": {},
   "source": [
    "### Create folder to save images to:"
   ]
  },
  {
   "cell_type": "code",
   "execution_count": 12,
   "metadata": {},
   "outputs": [],
   "source": [
    "path = (\"{}/{}_LUT_merged\").format(\n",
    "    \"/\".join(im_list[0].split(\"/\")[:-2]), im_list[0].split(\"/\")[-3]\n",
    ")\n",
    "\n",
    "os.mkdir(path)"
   ]
  },
  {
   "cell_type": "markdown",
   "metadata": {},
   "source": [
    "### Save images:"
   ]
  },
  {
   "cell_type": "code",
   "execution_count": 13,
   "metadata": {},
   "outputs": [],
   "source": [
    "# Save all images with the scale bar.\n",
    "for i, image in enumerate(merged_max_ims_8_with_scalebars):\n",
    "    skimage.io.imsave(\n",
    "        (\"{}/{}_LUT_merged/{}\").format(\n",
    "            \"/\".join(im_list[0].split(\"/\")[:-2]),\n",
    "            im_list[0].split(\"/\")[-3],\n",
    "            merged_imnames[i],\n",
    "        ),\n",
    "        merged_max_ims_8_with_scalebars[i],\n",
    "        plugin=None,\n",
    "        check_contrast=False,\n",
    "    )"
   ]
  },
  {
   "cell_type": "markdown",
   "metadata": {},
   "source": [
    "___"
   ]
  },
  {
   "cell_type": "markdown",
   "metadata": {},
   "source": [
    "# Computing environment"
   ]
  },
  {
   "cell_type": "code",
   "execution_count": null,
   "metadata": {},
   "outputs": [],
   "source": [
    "%load_ext watermark\n",
    "%watermark -v -p re,numpy,pandas,skimage,jupyterlab"
   ]
  }
 ],
 "metadata": {
  "kernelspec": {
   "display_name": "Python 3",
   "language": "python",
   "name": "python3"
  },
  "language_info": {
   "codemirror_mode": {
    "name": "ipython",
    "version": 3
   },
   "file_extension": ".py",
   "mimetype": "text/x-python",
   "name": "python",
   "nbconvert_exporter": "python",
   "pygments_lexer": "ipython3",
   "version": "3.7.5"
  }
 },
 "nbformat": 4,
 "nbformat_minor": 4
}
