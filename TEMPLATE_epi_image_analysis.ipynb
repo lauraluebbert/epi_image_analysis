{
 "cells": [
  {
   "cell_type": "markdown",
   "metadata": {},
   "source": [
    "# Apply color grading, enhance contrast and add scale bars to epifluorescence images"
   ]
  },
  {
   "cell_type": "code",
   "execution_count": null,
   "metadata": {},
   "outputs": [],
   "source": [
    "# Tools to read in the image files and filenames\n",
    "import glob\n",
    "import os\n",
    "import re \n",
    "\n",
    "# Calculation and data frame tools\n",
    "import numpy as np\n",
    "import pandas as pd\n",
    "\n",
    "# Image processing tools\n",
    "import skimage\n",
    "import skimage.io\n",
    "import skimage.morphology"
   ]
  },
  {
   "cell_type": "markdown",
   "metadata": {},
   "source": [
    "___"
   ]
  },
  {
   "cell_type": "markdown",
   "metadata": {},
   "source": [
    "This code will create a new folder in this directory called X_LUT containing tif files of the images with adjusted contrast (using the skimage.equalize_adapthist function), LUT and scale bar.\n",
    "\n",
    "Name files as follows: \"X_magnification_channel.tif\" (for example: \"X_10x_RFP.tif\")\n",
    "\n",
    "Written by Laura Luebbert, 22nd of March 2020."
   ]
  },
  {
   "cell_type": "markdown",
   "metadata": {},
   "source": [
    "___"
   ]
  },
  {
   "cell_type": "markdown",
   "metadata": {},
   "source": [
    "# Load in the data:"
   ]
  },
  {
   "cell_type": "markdown",
   "metadata": {},
   "source": [
    "Load images into Python:"
   ]
  },
  {
   "cell_type": "code",
   "execution_count": null,
   "metadata": {},
   "outputs": [],
   "source": [
    "# Define the directory containing daytime data\n",
    "data_dir = ''\n",
    "\n",
    "# Glob string for images (loads all .tif files)\n",
    "im_glob = os.path.join(data_dir, '*.tif')\n",
    "\n",
    "# Get list of files in directory\n",
    "im_list = sorted(glob.glob(im_glob))\n",
    "\n",
    "# Let's look at the first 10 entries\n",
    "im_list[:10]"
   ]
  },
  {
   "cell_type": "markdown",
   "metadata": {},
   "source": [
    "# Define the parameters:"
   ]
  },
  {
   "cell_type": "code",
   "execution_count": null,
   "metadata": {},
   "outputs": [],
   "source": [
    "# Define the interpixel distance in µm.\n",
    "interpixel_distance_10x = \n",
    "interpixel_distance_20x = \n",
    "\n",
    "# Define the desired scale bar size in µm.\n",
    "scale_bar = \n",
    "\n",
    "# Define green, blue or red LUT for each channel\n",
    "blue_channel = \"DAPI\"\n",
    "green_channel = \"GFP\"\n",
    "red_channel = \"RFP\""
   ]
  },
  {
   "cell_type": "markdown",
   "metadata": {},
   "source": [
    "___"
   ]
  },
  {
   "cell_type": "markdown",
   "metadata": {},
   "source": [
    "# Take a look at the first image:"
   ]
  },
  {
   "cell_type": "markdown",
   "metadata": {},
   "source": [
    "Load the first tif file using scikit-image to get some information about bit-size and color channels:"
   ]
  },
  {
   "cell_type": "code",
   "execution_count": null,
   "metadata": {},
   "outputs": [],
   "source": [
    "# Read in the first tif file using skimage.\n",
    "# im_list[#] defines which image is displayed.\n",
    "im = skimage.io.imread(im_list[0])\n",
    "\n",
    "im.shape\n",
    "# Let's get information about the image.\n",
    "print(\"The image is stored as a\", type(im), \"of\", im.dtype, \"bits.\", \"The image consists of\", im.shape[0], \"x\", im.shape[1], \"pixels.\")"
   ]
  },
  {
   "cell_type": "markdown",
   "metadata": {},
   "source": [
    "___"
   ]
  },
  {
   "cell_type": "markdown",
   "metadata": {},
   "source": [
    "# Enhance contrast and apply LUT according to channel:"
   ]
  },
  {
   "cell_type": "code",
   "execution_count": null,
   "metadata": {},
   "outputs": [],
   "source": [
    "max_ims = []\n",
    "zeros = np.zeros((1030, 1300))\n",
    "\n",
    "# Set median filter for despeckling\n",
    "selem = skimage.morphology.square(3)\n",
    "\n",
    "for i, file in enumerate(im_list):\n",
    "    # Read in each tif file using skimage\n",
    "    max_image = skimage.io.imread(im_list[i])\n",
    "    \n",
    "    # local contrast enhancement based on histograms computed over different tile regions of the image\n",
    "    max_image = skimage.exposure.equalize_adapthist(max_image)\n",
    "    \n",
    "    # Despeckle image\n",
    "#    max_image = skimage.filters.rank.median(image, selem)\n",
    "    \n",
    "    ## Add color   \n",
    "    if (im_list[i].split(\"_\")[-1].split(\".\")[0] == blue_channel):\n",
    "        merged_im = []\n",
    "        \n",
    "        # Append red channel\n",
    "        # Since we don't have a red channel here, I'll append an array of zeros (Skimage needs all three channels to save rgb images.)\n",
    "        merged_im.append(zeros)\n",
    "\n",
    "        # Append green channel\n",
    "        merged_im.append(zeros)\n",
    "\n",
    "        # Append blue channel\n",
    "        merged_im.append(max_image)\n",
    "               \n",
    "        # Reorder dimensions of array to allow us to display it with the bebi103 package (the new dimensions will be width x height (?) x number of channels)\n",
    "        merged_im = np.moveaxis(merged_im, 0, 2)\n",
    "        merged_im = np.array(merged_im)\n",
    "\n",
    "        max_ims.append(merged_im)\n",
    "        \n",
    "        \n",
    "    if (im_list[i].split(\"_\")[-1].split(\".\")[0] == green_channel):\n",
    "        merged_im = []\n",
    "        \n",
    "        # Append red channel\n",
    "        merged_im.append(zeros)\n",
    "\n",
    "        # Append green channel\n",
    "        merged_im.append(max_image)\n",
    "\n",
    "        # Append blue channel\n",
    "        merged_im.append(zeros)\n",
    "               \n",
    "        # Reorder dimensions of array to allow us to display it with the bebi103 package (the new dimensions will be width x height (?) x number of channels)\n",
    "        merged_im = np.moveaxis(merged_im, 0, 2)\n",
    "        merged_im = np.array(merged_im)\n",
    "\n",
    "        max_ims.append(merged_im)\n",
    "        \n",
    "        \n",
    "    if (im_list[i].split(\"_\")[-1].split(\".\")[0] == red_channel):\n",
    "        merged_im = []\n",
    "        \n",
    "        # Append red channel\n",
    "        merged_im.append(max_image)\n",
    "\n",
    "        # Append green channel\n",
    "        merged_im.append(zeros)\n",
    "\n",
    "        # Append blue channel\n",
    "        merged_im.append(zeros)\n",
    "        \n",
    "        merged_im = np.array(merged_im)\n",
    "\n",
    "        # Reorder dimensions of array to allow us to display it with the bebi103 package (the new dimensions will be width x height (?) x number of channels)\n",
    "        merged_im = np.moveaxis(merged_im, 0, 2)\n",
    "        merged_im = np.array(merged_im)\n",
    "\n",
    "        max_ims.append(merged_im)"
   ]
  },
  {
   "cell_type": "markdown",
   "metadata": {},
   "source": [
    "# Save the images as an 8-bit tif file:"
   ]
  },
  {
   "cell_type": "code",
   "execution_count": null,
   "metadata": {},
   "outputs": [],
   "source": [
    "# Scale down images to 8 bits to save them as a jpeg using skimage.\n",
    "max_ims_8 = []\n",
    "\n",
    "for i, file in enumerate(max_ims):\n",
    "    # Linearly scale down to 8-bit.\n",
    "    image = (max_ims[i]/max_ims[i].max())*255\n",
    "\n",
    "    # Change list to array and change type to 8-bit array.\n",
    "    image = np.array(image)\n",
    "    image = image.astype(np.uint8)\n",
    "\n",
    "    max_ims_8.append(image)\n",
    "\n",
    "# Change entire array \"ims\" to 8-bit array.    \n",
    "max_ims_8 = np.array(max_ims_8)\n",
    "max_ims_8 = max_ims_8.astype(np.uint8)"
   ]
  },
  {
   "cell_type": "markdown",
   "metadata": {},
   "source": [
    "### Burn in scale bars:"
   ]
  },
  {
   "cell_type": "code",
   "execution_count": null,
   "metadata": {},
   "outputs": [],
   "source": [
    "max_ims_8_with_scalebars = []\n",
    "\n",
    "scalebar_10 = (1/interpixel_distance_10x * scale_bar)\n",
    "scalebar_20 = (1/interpixel_distance_20x * scale_bar)\n",
    "\n",
    "for i, file in enumerate(max_ims_8):\n",
    "    if (im_list[i].split(\"_\")[-2] == \"10x\"):\n",
    "        # Make a copy of the image.\n",
    "        image_with_scalebar = max_ims_8[i]\n",
    "\n",
    "        # Burn the scale bar by changing pixel values (scalebar = 50 µm, white scalebar = 1000 (for black set to = 0)).\n",
    "        image_with_scalebar[970:980, 1100:1100+int(scalebar_10)] = 1000\n",
    "\n",
    "        # Append to new array.\n",
    "        max_ims_8_with_scalebars.append(image_with_scalebar)\n",
    "        \n",
    "    if (im_list[i].split(\"_\")[-2] == \"20x\"):\n",
    "        # Make a copy of the image.\n",
    "        image_with_scalebar = max_ims_8[i]\n",
    "\n",
    "        # Burn the scale bar by changing pixel values (scalebar = 50 µm, white scalebar = 1000 (for black set to = 0)).\n",
    "        image_with_scalebar[970:980, 1100:1100+int(scalebar_20)] = 1000\n",
    "\n",
    "        # Append to new array.\n",
    "        max_ims_8_with_scalebars.append(image_with_scalebar)\n",
    "\n",
    "# Display one image with the scalebar.\n",
    "skimage.io.imshow(max_ims_8_with_scalebars[0])"
   ]
  },
  {
   "cell_type": "markdown",
   "metadata": {},
   "source": [
    "### Create folder to save images to:"
   ]
  },
  {
   "cell_type": "code",
   "execution_count": null,
   "metadata": {},
   "outputs": [],
   "source": [
    "# Create folder \"X_max_singlechannel\".\n",
    "path = (\"{}/{}_LUT\").format(im_list[0].split(\"/\")[-3], im_list[0].split(\"/\")[-3])\n",
    "\n",
    "os.mkdir(path)"
   ]
  },
  {
   "cell_type": "markdown",
   "metadata": {},
   "source": [
    "### Slice out image names:"
   ]
  },
  {
   "cell_type": "code",
   "execution_count": null,
   "metadata": {},
   "outputs": [],
   "source": [
    "# Save the filename of the image in array as a first step to get the image title.\n",
    "files = []\n",
    "\n",
    "for filename in im_list:\n",
    "    files.append(filename.split(\"/\")[-1])\n",
    "\n",
    "# Save image titles in array   \n",
    "imnames = []  \n",
    "\n",
    "for name in files:\n",
    "    imnames.append(name.split(\".\")[0])"
   ]
  },
  {
   "cell_type": "markdown",
   "metadata": {},
   "source": [
    "### Save images:"
   ]
  },
  {
   "cell_type": "code",
   "execution_count": null,
   "metadata": {},
   "outputs": [],
   "source": [
    "# Save all images with the scale bar.\n",
    "for i, image in enumerate(max_ims_8_with_scalebars):\n",
    "    skimage.io.imsave(\n",
    "        (\"{}/{}_LUT/{}_LUT.tif\").format(im_list[0].split(\"/\")[-3], im_list[0].split(\"/\")[-3], imnames[i]),\n",
    "        max_ims_8_with_scalebars[i],\n",
    "        plugin=None,\n",
    "        check_contrast=False,\n",
    "    )"
   ]
  },
  {
   "cell_type": "markdown",
   "metadata": {},
   "source": [
    "___"
   ]
  },
  {
   "cell_type": "markdown",
   "metadata": {},
   "source": [
    "# Computing environment"
   ]
  },
  {
   "cell_type": "code",
   "execution_count": null,
   "metadata": {},
   "outputs": [],
   "source": [
    "%load_ext watermark\n",
    "%watermark -v -p re,numpy,pandas,skimage,jupyterlab"
   ]
  }
 ],
 "metadata": {
  "kernelspec": {
   "display_name": "Python 3",
   "language": "python",
   "name": "python3"
  },
  "language_info": {
   "codemirror_mode": {
    "name": "ipython",
    "version": 3
   },
   "file_extension": ".py",
   "mimetype": "text/x-python",
   "name": "python",
   "nbconvert_exporter": "python",
   "pygments_lexer": "ipython3",
   "version": "3.7.5"
  }
 },
 "nbformat": 4,
 "nbformat_minor": 4
}
